{
 "cells": [
  {
   "cell_type": "code",
   "execution_count": 21,
   "id": "f3b3ed7c",
   "metadata": {},
   "outputs": [],
   "source": [
    "import pandas as pd\n",
    "import numpy as np\n",
    "import matplotlib.pyplot as plt\n",
    "%matplotlib inline"
   ]
  },
  {
   "cell_type": "markdown",
   "id": "aec2a25c",
   "metadata": {},
   "source": [
    "## World Population Graphs\n",
    "\n",
    "The original dataset is from: https://www.kaggle.com/datasets/rsrishav/world-population "
   ]
  },
  {
   "cell_type": "code",
   "execution_count": 6,
   "id": "f9b34ecb",
   "metadata": {},
   "outputs": [
    {
     "data": {
      "text/html": [
       "<div>\n",
       "<style scoped>\n",
       "    .dataframe tbody tr th:only-of-type {\n",
       "        vertical-align: middle;\n",
       "    }\n",
       "\n",
       "    .dataframe tbody tr th {\n",
       "        vertical-align: top;\n",
       "    }\n",
       "\n",
       "    .dataframe thead th {\n",
       "        text-align: right;\n",
       "    }\n",
       "</style>\n",
       "<table border=\"1\" class=\"dataframe\">\n",
       "  <thead>\n",
       "    <tr style=\"text-align: right;\">\n",
       "      <th></th>\n",
       "      <th>iso_code</th>\n",
       "      <th>country</th>\n",
       "      <th>2021_last_updated</th>\n",
       "      <th>2020_population</th>\n",
       "      <th>area</th>\n",
       "      <th>density_sq_km</th>\n",
       "      <th>growth_rate</th>\n",
       "      <th>world_%</th>\n",
       "      <th>rank</th>\n",
       "    </tr>\n",
       "  </thead>\n",
       "  <tbody>\n",
       "    <tr>\n",
       "      <th>0</th>\n",
       "      <td>CHN</td>\n",
       "      <td>China</td>\n",
       "      <td>1,447,065,329</td>\n",
       "      <td>1,439,323,776</td>\n",
       "      <td>9,706,961 sq_km</td>\n",
       "      <td>149/sq_km</td>\n",
       "      <td>0.34%</td>\n",
       "      <td>18.34%</td>\n",
       "      <td>1</td>\n",
       "    </tr>\n",
       "    <tr>\n",
       "      <th>1</th>\n",
       "      <td>IND</td>\n",
       "      <td>India</td>\n",
       "      <td>1,401,310,563</td>\n",
       "      <td>1,380,004,385</td>\n",
       "      <td>3,287,590 sq_km</td>\n",
       "      <td>424/sq_km</td>\n",
       "      <td>0.97%</td>\n",
       "      <td>17.69%</td>\n",
       "      <td>2</td>\n",
       "    </tr>\n",
       "    <tr>\n",
       "      <th>2</th>\n",
       "      <td>USA</td>\n",
       "      <td>United States</td>\n",
       "      <td>334,058,426</td>\n",
       "      <td>331,002,651</td>\n",
       "      <td>9,372,610 sq_km</td>\n",
       "      <td>36/sq_km</td>\n",
       "      <td>0.58%</td>\n",
       "      <td>4.23%</td>\n",
       "      <td>3</td>\n",
       "    </tr>\n",
       "    <tr>\n",
       "      <th>3</th>\n",
       "      <td>IDN</td>\n",
       "      <td>Indonesia</td>\n",
       "      <td>278,037,263</td>\n",
       "      <td>273,523,615</td>\n",
       "      <td>1,904,569 sq_km</td>\n",
       "      <td>145/sq_km</td>\n",
       "      <td>1.04%</td>\n",
       "      <td>3.51%</td>\n",
       "      <td>4</td>\n",
       "    </tr>\n",
       "    <tr>\n",
       "      <th>4</th>\n",
       "      <td>PAK</td>\n",
       "      <td>Pakistan</td>\n",
       "      <td>227,724,796</td>\n",
       "      <td>220,892,340</td>\n",
       "      <td>881,912 sq_km</td>\n",
       "      <td>255/sq_km</td>\n",
       "      <td>1.95%</td>\n",
       "      <td>2.86%</td>\n",
       "      <td>5</td>\n",
       "    </tr>\n",
       "  </tbody>\n",
       "</table>\n",
       "</div>"
      ],
      "text/plain": [
       "  iso_code        country 2021_last_updated 2020_population             area  \\\n",
       "0      CHN          China     1,447,065,329   1,439,323,776  9,706,961 sq_km   \n",
       "1      IND          India     1,401,310,563   1,380,004,385  3,287,590 sq_km   \n",
       "2      USA  United States       334,058,426     331,002,651  9,372,610 sq_km   \n",
       "3      IDN      Indonesia       278,037,263     273,523,615  1,904,569 sq_km   \n",
       "4      PAK       Pakistan       227,724,796     220,892,340    881,912 sq_km   \n",
       "\n",
       "  density_sq_km growth_rate world_%  rank  \n",
       "0     149/sq_km       0.34%  18.34%     1  \n",
       "1     424/sq_km       0.97%  17.69%     2  \n",
       "2      36/sq_km       0.58%   4.23%     3  \n",
       "3     145/sq_km       1.04%   3.51%     4  \n",
       "4     255/sq_km       1.95%   2.86%     5  "
      ]
     },
     "execution_count": 6,
     "metadata": {},
     "output_type": "execute_result"
    }
   ],
   "source": [
    "# Top 5 countries population dataframe\n",
    "\n",
    "population = pd.read_csv(\"../Minor Projects/data/world-population.csv\")\n",
    "population.head()"
   ]
  },
  {
   "cell_type": "code",
   "execution_count": 59,
   "id": "79876814",
   "metadata": {},
   "outputs": [],
   "source": [
    "def replace(data, col_name):\n",
    "    \n",
    "    data[col_name] = data[col_name].str.replace(',' , '')\n",
    "    \n",
    "    data[col_name] = data[col_name].str.replace(\"sq_km\", \"\")\n",
    "    data[col_name] = data[col_name].str.replace(\"%\", \"\")\n",
    "    \n",
    "    \n",
    "    data[col_name] = pd.to_numeric(data[col_name])\n",
    "\n",
    "replace(population, '2021_last_updated')\n",
    "replace(population, '2020_population')\n",
    "replace(population, 'area')\n",
    "replace(population, 'growth_rate')\n",
    "replace(population, 'world_%')"
   ]
  },
  {
   "cell_type": "code",
   "execution_count": 60,
   "id": "9123f97d",
   "metadata": {},
   "outputs": [],
   "source": [
    "data = population[\"2021_last_updated\"][:5]\n",
    "iso = population[\"iso_code\"][:5]"
   ]
  },
  {
   "cell_type": "code",
   "execution_count": 61,
   "id": "ed87849e",
   "metadata": {},
   "outputs": [
    {
     "data": {
      "text/plain": [
       "dtype('int64')"
      ]
     },
     "execution_count": 61,
     "metadata": {},
     "output_type": "execute_result"
    }
   ],
   "source": [
    "data.dtype"
   ]
  },
  {
   "cell_type": "code",
   "execution_count": 62,
   "id": "ef308635",
   "metadata": {},
   "outputs": [
    {
     "name": "stdout",
     "output_type": "stream",
     "text": [
      "<class 'pandas.core.series.Series'>\n",
      "RangeIndex: 5 entries, 0 to 4\n",
      "Series name: 2021_last_updated\n",
      "Non-Null Count  Dtype\n",
      "--------------  -----\n",
      "5 non-null      int64\n",
      "dtypes: int64(1)\n",
      "memory usage: 168.0 bytes\n"
     ]
    }
   ],
   "source": [
    "data.info()"
   ]
  },
  {
   "cell_type": "code",
   "execution_count": 63,
   "id": "ac0ec02e",
   "metadata": {},
   "outputs": [
    {
     "data": {
      "text/plain": [
       "count    5.000000e+00\n",
       "mean     7.376393e+08\n",
       "std      6.280663e+08\n",
       "min      2.277248e+08\n",
       "25%      2.780373e+08\n",
       "50%      3.340584e+08\n",
       "75%      1.401311e+09\n",
       "max      1.447065e+09\n",
       "Name: 2021_last_updated, dtype: float64"
      ]
     },
     "execution_count": 63,
     "metadata": {},
     "output_type": "execute_result"
    }
   ],
   "source": [
    "data.describe()"
   ]
  },
  {
   "cell_type": "code",
   "execution_count": 64,
   "id": "74126831",
   "metadata": {},
   "outputs": [
    {
     "data": {
      "text/plain": [
       "dtype('O')"
      ]
     },
     "execution_count": 64,
     "metadata": {},
     "output_type": "execute_result"
    }
   ],
   "source": [
    "iso.dtype"
   ]
  },
  {
   "cell_type": "code",
   "execution_count": 65,
   "id": "1bac7388",
   "metadata": {},
   "outputs": [
    {
     "name": "stdout",
     "output_type": "stream",
     "text": [
      "<class 'pandas.core.series.Series'>\n",
      "RangeIndex: 5 entries, 0 to 4\n",
      "Series name: iso_code\n",
      "Non-Null Count  Dtype \n",
      "--------------  ----- \n",
      "5 non-null      object\n",
      "dtypes: object(1)\n",
      "memory usage: 168.0+ bytes\n"
     ]
    }
   ],
   "source": [
    "iso.info()"
   ]
  },
  {
   "cell_type": "code",
   "execution_count": 66,
   "id": "6ce70f81",
   "metadata": {},
   "outputs": [
    {
     "data": {
      "text/plain": [
       "count       5\n",
       "unique      5\n",
       "top       CHN\n",
       "freq        1\n",
       "Name: iso_code, dtype: object"
      ]
     },
     "execution_count": 66,
     "metadata": {},
     "output_type": "execute_result"
    }
   ],
   "source": [
    "iso.describe()"
   ]
  },
  {
   "cell_type": "code",
   "execution_count": 80,
   "id": "335a63f4",
   "metadata": {},
   "outputs": [
    {
     "data": {
      "image/png": "[encoded data removed]",
      "text/plain": [
       "<Figure size 720x360 with 1 Axes>"
      ]
     },
     "metadata": {
      "needs_background": "light"
     },
     "output_type": "display_data"
    }
   ],
   "source": [
    "# Graph\n",
    "\n",
    "fig, ax = plt.subplots(figsize = (10, 5))\n",
    "\n",
    "ax.bar(iso, data, color = [\"firebrick\", \"springgreen\", \"cornflowerblue\", \"lightcoral\", \"skyblue\"])\n",
    "\n",
    "ax.set(title = \"Top 5 Countries with the Biggest Population\",\n",
    "       xlabel = \"Countries\",\n",
    "       ylabel = \"Population in Billions\");"
   ]
  },
  {
   "cell_type": "code",
   "execution_count": 81,
   "id": "3e2647f1",
   "metadata": {},
   "outputs": [],
   "source": [
    "fig.savefig(\"../Minor Projects/Graphs and Models/top-5-population.png\")"
   ]
  },
  {
   "cell_type": "code",
   "execution_count": null,
   "id": "6fb9b926",
   "metadata": {},
   "outputs": [],
   "source": []
  }
 ],
 "metadata": {
  "kernelspec": {
   "display_name": "Python 3 (ipykernel)",
   "language": "python",
   "name": "python3"
  },
  "language_info": {
   "codemirror_mode": {
    "name": "ipython",
    "version": 3
   },
   "file_extension": ".py",
   "mimetype": "text/x-python",
   "name": "python",
   "nbconvert_exporter": "python",
   "pygments_lexer": "ipython3",
   "version": "3.10.7"
  }
 },
 "nbformat": 4,
 "nbformat_minor": 5
}
